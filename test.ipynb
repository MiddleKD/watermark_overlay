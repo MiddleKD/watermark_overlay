{
 "cells": [
  {
   "cell_type": "code",
   "execution_count": 1,
   "metadata": {},
   "outputs": [],
   "source": [
    "import wget\n",
    "wget.download(\"https://plus.unsplash.com/premium_photo-1677541205130-51e60e937318?ixlib=rb-4.0.3&ixid=M3wxMjA3fDB8MHxwaG90by1wYWdlfHx8fGVufDB8fHx8fA%3D%3D&auto=format&fit=crop&w=1000&q=80\", \"./temp_data/img_3.jpg\")"
   ]
  },
  {
   "cell_type": "code",
   "execution_count": 44,
   "metadata": {},
   "outputs": [],
   "source": [
    "import cv2\n",
    "import numpy as np\n",
    "import os\n",
    "from PIL import Image\n",
    "from tqdm import tqdm"
   ]
  },
  {
   "cell_type": "code",
   "execution_count": 45,
   "metadata": {},
   "outputs": [],
   "source": [
    "def resize_watermark(img, watermark):\n",
    "    w_height, w_width = watermark.shape[:2]\n",
    "    ratio = w_width / w_height\n",
    "\n",
    "    new_height = img.shape[0] // 7\n",
    "    new_width = int(new_height * ratio)\n",
    "\n",
    "    resized_watermark = cv2.resize(watermark, (new_width, new_height))\n",
    "\n",
    "    return resized_watermark"
   ]
  },
  {
   "cell_type": "code",
   "execution_count": 46,
   "metadata": {},
   "outputs": [],
   "source": [
    "def change_gray(watermark):\n",
    "    gray_watermark = np.where(0<watermark, 127, watermark)\n",
    "    return gray_watermark"
   ]
  },
  {
   "cell_type": "code",
   "execution_count": 47,
   "metadata": {},
   "outputs": [],
   "source": [
    "def random_alpha_modify(tiled_pattern):\n",
    "    height, width, _ = tiled_pattern.shape\n",
    "    x = np.random.randint(0, int(width*0.7))\n",
    "    y = np.random.randint(0, int(height*0.7))\n",
    "    h = height//2\n",
    "    w = width//2\n",
    "\n",
    "    tiled_pattern[y:y+h, x:x+w, 3] *= 0.7\n",
    "\n",
    "    return tiled_pattern"
   ]
  },
  {
   "cell_type": "code",
   "execution_count": 48,
   "metadata": {},
   "outputs": [],
   "source": [
    "def visualize_numpy(np_array):\n",
    "    img = Image.fromarray(np_array.astype(np.uint8))\n",
    "    return img"
   ]
  },
  {
   "cell_type": "code",
   "execution_count": 49,
   "metadata": {},
   "outputs": [],
   "source": [
    "def overlay(image, watermark, alpha_range=(0.08, 0.2), alpha_crop=True, gray=True):\n",
    "    if gray==True:\n",
    "        watermark = change_gray(watermark)\n",
    "    \n",
    "    watermark = resize_watermark(image, watermark)\n",
    "\n",
    "    tile_x = image.shape[1] // watermark.shape[1] + 1\n",
    "    tile_y = image.shape[0] // watermark.shape[0] + 1\n",
    "\n",
    "    tiled_pattern = np.tile(watermark, (tile_y, tile_x, 1))\n",
    "    tiled_pattern = tiled_pattern[:image.shape[0], :image.shape[1]]\n",
    "\n",
    "    if alpha_crop==True:\n",
    "        tiled_pattern = random_alpha_modify(tiled_pattern)\n",
    "\n",
    "    pattern_bgr = tiled_pattern[..., :3]\n",
    "    pattern_alpha = tiled_pattern[..., 3]\n",
    "\n",
    "    alpha_mask = cv2.merge([pattern_alpha, pattern_alpha, pattern_alpha]) / 255.0 * np.random.uniform(*alpha_range)\n",
    "\n",
    "    overlay = pattern_bgr * alpha_mask + image * (1 - alpha_mask)\n",
    "    overlay = overlay.astype(np.uint8)\n",
    "\n",
    "    return overlay"
   ]
  },
  {
   "cell_type": "code",
   "execution_count": 55,
   "metadata": {},
   "outputs": [],
   "source": [
    "def main(watermark_dir, image_dir, save_dir, overlay_iter=3):\n",
    "    \n",
    "    watermark_paths = [(os.path.join(watermark_dir, cur), os.path.splitext(cur)[0]) for cur in os.listdir(watermark_dir)]\n",
    "    image_paths = [(os.path.join(image_dir, cur), os.path.splitext(cur)[0]) for cur in os.listdir(image_dir)]\n",
    "\n",
    "    for image_path, img_fn in tqdm(image_paths, total=len(image_paths), leave=True):\n",
    "        image = cv2.imread(image_path).astype(np.float64)\n",
    "\n",
    "        for watermark_path, watermark_fn in watermark_paths:\n",
    "            watermark = cv2.imread(watermark_path, -1).astype(np.float64)\n",
    "\n",
    "            for idx in range(overlay_iter):\n",
    "                # if np.random.randint(0,10) % 2 == 0:\n",
    "                #     output = overlay(image, watermark, (0.05, 0.18), gray=True)\n",
    "                # else:\n",
    "                output = overlay(image, watermark, (0.08, 0.2), gray=False)\n",
    "                \n",
    "                output = output.astype(np.uint8)\n",
    "                cv2.imwrite(os.path.join(save_dir, f\"{img_fn}_{watermark_fn}_{idx}.png\"), output)"
   ]
  },
  {
   "cell_type": "code",
   "execution_count": 56,
   "metadata": {},
   "outputs": [
    {
     "name": "stderr",
     "output_type": "stream",
     "text": [
      "100%|██████████| 2/2 [01:51<00:00, 55.93s/it]\n"
     ]
    }
   ],
   "source": [
    "main(\"./watermark\", \"./temp_data\", \"./result\", overlay_iter=1)"
   ]
  },
  {
   "cell_type": "code",
   "execution_count": 57,
   "metadata": {},
   "outputs": [],
   "source": [
    "a = [1,2,3]\n",
    "b = [3,2,1]"
   ]
  },
  {
   "cell_type": "code",
   "execution_count": 61,
   "metadata": {},
   "outputs": [
    {
     "data": {
      "text/plain": [
       "[(1, 3), (2, 2), (3, 1)]"
      ]
     },
     "execution_count": 61,
     "metadata": {},
     "output_type": "execute_result"
    }
   ],
   "source": [
    "list(zip(a,b,))"
   ]
  },
  {
   "cell_type": "code",
   "execution_count": null,
   "metadata": {},
   "outputs": [],
   "source": []
  }
 ],
 "metadata": {
  "kernelspec": {
   "display_name": "kjg_ver39",
   "language": "python",
   "name": "python3"
  },
  "language_info": {
   "codemirror_mode": {
    "name": "ipython",
    "version": 3
   },
   "file_extension": ".py",
   "mimetype": "text/x-python",
   "name": "python",
   "nbconvert_exporter": "python",
   "pygments_lexer": "ipython3",
   "version": "3.9.15"
  },
  "orig_nbformat": 4
 },
 "nbformat": 4,
 "nbformat_minor": 2
}
